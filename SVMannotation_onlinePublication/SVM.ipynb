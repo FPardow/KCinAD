{
 "cells": [
  {
   "cell_type": "markdown",
   "id": "opposite-break",
   "metadata": {},
   "source": [
    "# SVM classification of keratinocyte subpopulations - Rojahn biopsy data\n",
    "\n"
   ]
  },
  {
   "cell_type": "code",
   "execution_count": 15,
   "id": "nonprofit-holder",
   "metadata": {},
   "outputs": [],
   "source": [
    "import os \n",
    "import numpy as np\n",
    "import pandas as pd\n",
    "import scanpy as sc\n",
    "import time as tm\n",
    "import seaborn as sns\n",
    "from sklearn.svm import LinearSVC\n",
    "import rpy2.robjects as robjects\n",
    "from sklearn.calibration import CalibratedClassifierCV\n",
    "from sklearn.metrics import confusion_matrix\n",
    "import anndata as ad\n",
    "\n",
    "%matplotlib inline \n",
    "sc.set_figure_params(dpi=800)\n",
    "\n",
    "os.chdir(\"/path/to/directory/\") #adjust path"
   ]
  },
  {
   "cell_type": "markdown",
   "id": "outdoor-yeast",
   "metadata": {},
   "source": [
    "## Defining the SVM function:\n",
    "Note: SVM function adapted from Abdelaal et al. (2019)\n"
   ]
  },
  {
   "cell_type": "code",
   "execution_count": 16,
   "id": "accessory-saver",
   "metadata": {},
   "outputs": [],
   "source": [
    "def run_SVM(matrix_train, matrix_test, LabelsPathTrain, OutputDir):\n",
    "    '''\n",
    "    run baseline classifier: SVM\n",
    "    Wrapper script to run an SVM classifier with a linear kernel on a benchmark dataset with 5-fold cross validation,\n",
    "    outputs lists of true and predicted cell labels as csv files, as well as computation time.\n",
    "\n",
    "    Parameters:\n",
    "    matrix_train, matrix_test : Data matrix for training and testing data,\n",
    "        cells-genes matrix with cell unique barcodes as row names and gene names as column names.\n",
    "    LabelsPathTrain : Cell population annotations file path matching the training data (.csv).\n",
    "    OutputDir : Output directory defining the path of the exported file.\n",
    "    '''\n",
    "\n",
    "\n",
    "    # read the data\n",
    "    data_train = matrix_train\n",
    "    data_test = matrix_test\n",
    "    labels_train = pd.read_csv(LabelsPathTrain, header=0,index_col=None, sep=',')\n",
    "        \n",
    "\n",
    "    # normalise data\n",
    "    data_train = np.log1p(data_train)\n",
    "    data_test = np.log1p(data_test)  \n",
    "        \n",
    "    Classifier = LinearSVC()\n",
    "    pred = []\n",
    "    Classifier.fit(data_train, labels_train.values.ravel())\n",
    "\n",
    "    predicted = Classifier.predict(data_test)\n",
    "            \n",
    "    pred.extend(predicted)\n",
    "    pred = pd.DataFrame(pred)\n",
    "    pred.to_csv(str(OutputDir) + \"SVM_Pred_Labels.csv\", index =False)"
   ]
  },
  {
   "cell_type": "markdown",
   "id": "complicated-object",
   "metadata": {},
   "source": [
    "## Apply SVM to the Rojahn biopsy data"
   ]
  },
  {
   "cell_type": "code",
   "execution_count": 17,
   "id": "induced-celtic",
   "metadata": {},
   "outputs": [],
   "source": [
    "# load data:\n",
    "# Wang et al 2019 training data\n",
    "mtx_train = sc.read_mtx(\"./Data/Wang_kc2_count.mtx\") #adjust path if needed\n",
    "cells_train = pd.read_table(\"./Data/Wang_kc2_metadata.tsv\") #adjust path if needed\n",
    "genes_train = pd.read_table(\"./Data/Wang_kc2_features.tsv\", header=None, index_col=0) #adjust path if needed\n",
    "genes_train.index.name = None\n",
    "training = ad.AnnData(\n",
    "    X=mtx_train.X.T,\n",
    "    obs=cells_train,\n",
    "    var=genes_train,\n",
    ")\n",
    "\n",
    "matrix_train = pd.DataFrame.sparse.from_spmatrix(training.X, index=list(training.obs.index.values), columns=list(training.var.index.values))\n",
    "\n",
    "# Rojahn et al. 2020 testing data\n",
    "mtx_test = sc.read_mtx(\"./Data/Rojahn_kcfiltered2_count.mtx\") #adjust path if needed\n",
    "cells_test = pd.read_table(\"./Data/Rojahn_kcfiltered2_metadata.tsv\") #adjust path if needed\n",
    "genes_test = pd.read_table(\"./Data/Rojahn_kcfiltered2_features.tsv\", header=None, index_col=0) #adjust path if needed\n",
    "genes_test.index.name = None\n",
    "testing = ad.AnnData(\n",
    "    X=mtx_test.X.T,\n",
    "    obs=cells_test,\n",
    "    var=genes_test,\n",
    ")\n",
    "\n",
    "matrix_test = pd.DataFrame.sparse.from_spmatrix(testing.X, index=list(testing.obs.index.values), columns=list(testing.var.index.values))"
   ]
  },
  {
   "cell_type": "code",
   "execution_count": 18,
   "id": "supreme-consequence",
   "metadata": {},
   "outputs": [],
   "source": [
    "# run functions:\n",
    "run_SVM(matrix_train = matrix_train, matrix_test = matrix_test,\n",
    "        LabelsPathTrain = \"./Data/Wang_kc2_labels.csv\", #adjust path if needed\n",
    "        OutputDir = \"./Results/RojahnBiop/\") #adjust path if needed"
   ]
  }
 ],
 "metadata": {
  "kernelspec": {
   "display_name": "Python 3",
   "language": "python",
   "name": "python3"
  },
  "language_info": {
   "codemirror_mode": {
    "name": "ipython",
    "version": 3
   },
   "file_extension": ".py",
   "mimetype": "text/x-python",
   "name": "python",
   "nbconvert_exporter": "python",
   "pygments_lexer": "ipython3",
   "version": "3.7.10"
  }
 },
 "nbformat": 4,
 "nbformat_minor": 5
}
